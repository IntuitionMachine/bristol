{
 "cells": [
  {
   "cell_type": "markdown",
   "metadata": {},
   "source": [
    "# Generating Circular Ensembles: Notes\n",
    "\n",
    "Author: M. Suzen\n",
    "\n",
    "Last Up Date: January 2018\n",
    "\n",
    "Circular random matrix ensembles, [circular ensembles](https://en.wikipedia.org/wiki/Circular_ensemble) can be generated as follows [berry13a, edelman05, mezzari07, haaken]"
   ]
  },
  {
   "cell_type": "markdown",
   "metadata": {},
   "source": [
    "### Circular Unitary Ensemble (CUE)\n",
    "\n",
    "Hermitian matrix $H \\in \\mathbb{R}^{NxN}$, in component form\n",
    "\n",
    "$H_{ij} = \\frac{1}{2}(a_{ij}+ib_{ij}+a_{ji}-ib_{ji})$\n",
    "\n",
    "$1 \\leq i,j \\leq N$\n",
    "\n",
    "$\\mathbb{G}$ i.i.d. Gaussian random numbers sampled from normal distribution.\n",
    "\n",
    "$a_{ij}, b_{ij}, a_{ji}, b_{ji} \\in \\mathbb{G}$\n",
    "\n",
    "Equivalent matrix definition:\n",
    "$ H = \\frac{1}{2}(A+iB+A^{T}-iB^{T})$\n",
    "\n",
    "Circular Unitary Ensemble (CUE)\n",
    "\n",
    "$H_{ij}^{CUE} = exp(\\gamma_{i}i) * v_{j}^{i}$\n",
    "\n",
    "$v_{i}$ is the $i$-th eigenvector, where $\\gamma_{i} \\in [0, 2\\pi]$, uniform random number.\n",
    "\n",
    "Equivalent matrix definition,\n",
    "\n",
    "$\\Gamma \\in \\mathbb{C}^N$ is a uniform random phase drawn from the interval $[0, 2\\pi]$.\n",
    "\n",
    "$H^{CUE} = \\Gamma V$\n",
    "\n",
    "where $V \\in \\mathbb{C}^{NxN}$ eigenvector matrix."
   ]
  },
  {
   "cell_type": "markdown",
   "metadata": {},
   "source": [
    "### Circular Orthogonal Ensemble (COE)\n",
    "\n",
    "$H^{COE} = (H^{CUE})^T H^{CUE}$"
   ]
  },
  {
   "cell_type": "markdown",
   "metadata": {},
   "source": [
    "### Circular Symplectic Ensemble (CSE)\n",
    "\n",
    "$H^{CSE} = (Z_{\\pm} (H^{CUE})^{T} Z_{\\pm}) H^{CUE} $\n",
    "\n",
    "$H^{CSE} \\in \\mathbb{C}^{2Nx2N}$\n",
    "\n",
    "Define unit symplectic matrix, Z,  outer product of $NxN$ identity matrix with the unit antisymmetric $2x2$ matrix, doubly degenerate\n",
    "\n",
    "$Z_{\\pm} \\in  \\mathbb{R}^{2Nx2N}$"
   ]
  },
  {
   "cell_type": "markdown",
   "metadata": {},
   "source": [
    "\n",
    "$ \n",
    "Z_{+} =\\left( \\begin{array}{ccccccc} 0 & -1 & & & & &  \\\\ 1 & 0 &  & & & & \\\\ & & 0 & -1 &  & &  \\\\ & & 1 & 0  & & & \\\\ & & & & \\ddots & & \\\\ & & & & & 0& -1\\\\ & & & & & 1 & 0 \\end{array} \\right) \n",
    "$\n",
    "\n",
    "$\n",
    "Z_{-} = \\left( \\begin{array}{ccccccc} 0 & 1 & & & & &  \\\\ -1 & 0 &  & & & & \\\\ & & 0 & 1 &  & &  \\\\ & & -1 & 0  & & & \\\\ & & & & \\ddots & & \\\\ & & & & & 0& 1\\\\ & & & & & -1 & 0 \\end{array} \\right)\n",
    "$"
   ]
  },
  {
   "cell_type": "markdown",
   "metadata": {},
   "source": [
    "### References\n",
    "[berry13a] New Journal of Physics 15 (2013) 013026"
   ]
  }
 ],
 "metadata": {
  "kernelspec": {
   "display_name": "Python 2",
   "language": "python",
   "name": "python2"
  },
  "language_info": {
   "codemirror_mode": {
    "name": "ipython",
    "version": 2
   },
   "file_extension": ".py",
   "mimetype": "text/x-python",
   "name": "python",
   "nbconvert_exporter": "python",
   "pygments_lexer": "ipython2",
   "version": "2.7.13"
  }
 },
 "nbformat": 4,
 "nbformat_minor": 2
}
